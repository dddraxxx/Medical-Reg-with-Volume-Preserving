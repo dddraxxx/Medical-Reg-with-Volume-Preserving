{
 "cells": [
  {
   "cell_type": "code",
   "execution_count": null,
   "metadata": {},
   "outputs": [],
   "source": [
    "import itk\n",
    "from itkwidgets import view"
   ]
  },
  {
   "cell_type": "markdown",
   "metadata": {},
   "source": [
    "# Read h5"
   ]
  },
  {
   "cell_type": "code",
   "execution_count": null,
   "metadata": {},
   "outputs": [],
   "source": [
    "import h5py\n",
    "# read h5py\n",
    "path = '../datasets/liver_test10.h5'\n",
    "f = h5py.File(path, 'r')\n",
    "import pprint, json\n",
    "print(json.dumps({k: [\n",
    "    [],\n",
    "    [],\n",
    "    [],\n",
    "    [],\n",
    "    []\n",
    "] for k in f.keys()}, indent=4))"
   ]
  },
  {
   "cell_type": "code",
   "execution_count": null,
   "metadata": {},
   "outputs": [],
   "source": [
    "import h5py\n",
    "# read h5py\n",
    "path = '../datasets/brain_test_23.h5'\n",
    "f = h5py.File(path, 'r')\n",
    "import pprint, json\n",
    "print(json.dumps({k: [\n",
    "    [],\n",
    "    [],\n",
    "    [],\n",
    "    [],\n",
    "    []\n",
    "] for k in f.keys()}, indent=4))"
   ]
  },
  {
   "cell_type": "markdown",
   "metadata": {},
   "source": [
    "## Label"
   ]
  },
  {
   "cell_type": "code",
   "execution_count": null,
   "metadata": {},
   "outputs": [],
   "source": [
    "# l4, l3, main, l2, l1\n",
    "seg_p = {\n",
    "    \"1-0\": [\n",
    "        [],\n",
    "        [],\n",
    "        [],\n",
    "        [],\n",
    "        []\n",
    "    ],\n",
    "    \"1-1\": [\n",
    "        [],\n",
    "        [],\n",
    "        [],\n",
    "        [],\n",
    "        []\n",
    "    ],\n",
    "    \"2-0\": [\n",
    "        [],\n",
    "        [],\n",
    "        [],\n",
    "        [],\n",
    "        []\n",
    "    ],\n",
    "    \"2-1\": [\n",
    "        [],\n",
    "        [],\n",
    "        [],\n",
    "        [],\n",
    "        []\n",
    "    ],\n",
    "    \"3-0\": [\n",
    "        [59,64,67],\n",
    "#         [63,70,55],\n",
    "        [69,65,67],\n",
    "        [561,69,54],\n",
    "        [67,81,41],\n",
    "        [79,90,50]\n",
    "    ],\n",
    "    \"3-1\": [\n",
    "        [60,58,70],\n",
    "        [71,63,74],\n",
    "        [64,62,53],\n",
    "        [70,67,44],\n",
    "        [73,86,39]\n",
    "    ],\n",
    "    \"4-0\": [\n",
    "        [],\n",
    "        [],\n",
    "        [],\n",
    "        [],\n",
    "        []\n",
    "    ],\n",
    "    \"4-1\": [\n",
    "        [],\n",
    "        [],\n",
    "        [],\n",
    "        [],\n",
    "        []\n",
    "    ],\n",
    "    \"5-0\": [\n",
    "        [],\n",
    "        [],\n",
    "        [],\n",
    "        [],\n",
    "        []\n",
    "    ],\n",
    "    \"5-1\": [\n",
    "        [],\n",
    "        [],\n",
    "        [],\n",
    "        [],\n",
    "        []\n",
    "    ]\n",
    "}\n",
    "seg_p = {\n",
    "    \"1-1\": [\n",
    "        [],\n",
    "        [],\n",
    "        [],\n",
    "        [],\n",
    "        []\n",
    "    ],\n",
    "    \"1-2\": [\n",
    "        [],\n",
    "        [],\n",
    "        [],\n",
    "        [],\n",
    "        []\n",
    "    ],\n",
    "    \"2-1\": [\n",
    "        [],\n",
    "        [],\n",
    "        [],\n",
    "        [],\n",
    "        []\n",
    "    ],\n",
    "    \"2-2\": [\n",
    "        [],\n",
    "        [],\n",
    "        [],\n",
    "        [],\n",
    "        []\n",
    "    ],\n",
    "    \"3-1\": [\n",
    "        [62,43,58],\n",
    "        [63,86,69],\n",
    "        [62,39,77],\n",
    "        [79,67,76],\n",
    "        [47,32,77],\n",
    "        [41,86,76]\n",
    "    ],\n",
    "    \"3-2\": [\n",
    "        [64, 44, 57], # this is the highest intersect\n",
    "        [64, 83, 71], # this is the posterior intersect\n",
    "        [75,38,77],\n",
    "        [85,87,77],\n",
    "        [47,36,77],\n",
    "        [43,83,77]\n",
    "    ],\n",
    "    \"4-1\": [\n",
    "        [],\n",
    "        [],\n",
    "        [],\n",
    "        [],\n",
    "        []\n",
    "    ],\n",
    "    \"4-2\": [\n",
    "        [],\n",
    "        [],\n",
    "        [],\n",
    "        [],\n",
    "        []\n",
    "    ],\n",
    "    \"5-1\": [\n",
    "        [],\n",
    "        [],\n",
    "        [],\n",
    "        [],\n",
    "        []\n",
    "    ],\n",
    "    \"5-2\": [\n",
    "        [],\n",
    "        [],\n",
    "        [],\n",
    "        [],\n",
    "        []\n",
    "    ]\n",
    "}"
   ]
  },
  {
   "cell_type": "code",
   "execution_count": null,
   "metadata": {},
   "outputs": [],
   "source": [
    "def save_h5(points):\n",
    "    import numpy as np\n",
    "    f.close()\n",
    "    fw = h5py.File(path, 'r+')\n",
    "    for id, p in points.items():\n",
    "        if len(p[0]):\n",
    "            print('write point for {}'.format(id))\n",
    "            pp = np.array(p).round().astype('uint8')\n",
    "            # flip pp in the last dim\n",
    "            pp = pp[:, ::-1]\n",
    "            # create points dataset\n",
    "            if 'point' in fw[id]:\n",
    "                del fw[id]['point']\n",
    "            fw[id].create_dataset('point', data=pp)\n",
    "    fw.close()\n",
    "save_h5(seg_p)"
   ]
  },
  {
   "cell_type": "code",
   "execution_count": null,
   "metadata": {},
   "outputs": [],
   "source": [
    "def make_seg(points, r=5):\n",
    "    seg = np.zeros(data.shape)\n",
    "    for p in points:\n",
    "        seg[p[2]-r:p[2]+r,p[1]-r:p[1]+r,p[0]-r:p[0]+r]=1\n",
    "    return seg\n",
    "import numpy as np\n",
    "idx = str('3-1')\n",
    "data = np.array(f[idx]['volume'])\n",
    "# label = make_seg(seg_p[idx], 2)\n",
    "# label = np.array(f[idx]['segmentation'])\n",
    "(np.array(f[idx]['segmentation'])>1.5).sum()"
   ]
  },
  {
   "cell_type": "code",
   "execution_count": null,
   "metadata": {},
   "outputs": [],
   "source": [
    "view(data)"
   ]
  },
  {
   "cell_type": "code",
   "execution_count": null,
   "metadata": {
    "scrolled": false
   },
   "outputs": [],
   "source": [
    "# v=view(data, label_image=label)\n",
    "v = view(data)"
   ]
  },
  {
   "cell_type": "code",
   "execution_count": null,
   "metadata": {},
   "outputs": [],
   "source": [
    "import json\n",
    "from pprint import pprint\n",
    "# json.dump(seg_p, fp=open(\"/home/hynx/regis/recursive-cascaded-networks/landmark_json/lits17_landmark.json\", 'w'))"
   ]
  },
  {
   "cell_type": "markdown",
   "metadata": {},
   "source": [
    "## Nibabel view"
   ]
  },
  {
   "cell_type": "code",
   "execution_count": null,
   "metadata": {},
   "outputs": [],
   "source": [
    "import numpy as np\n",
    "def visualize_nii(id, path='/mnt/sdc/lits/train'):\n",
    "    # img, meta = LoadImage()(f'{path}/volume-{id}.nii')\n",
    "    import nibabel as nib\n",
    "    from nibabel.orientations import io_orientation, axcodes2ornt, ornt_transform\n",
    "    imgn : nib.Nifti1Image = nib.load(f'{path}/volume-{id}.nii')\n",
    "    print(np.array(imgn.dataobj).shape)\n",
    "    return imgn.orthoview()"
   ]
  },
  {
   "cell_type": "code",
   "execution_count": null,
   "metadata": {},
   "outputs": [],
   "source": [
    "v.position"
   ]
  },
  {
   "cell_type": "code",
   "execution_count": null,
   "metadata": {},
   "outputs": [],
   "source": [
    "id = 128\n",
    "v=visualize_nii(id)\n",
    "v.set_position(70, 75, 350)"
   ]
  },
  {
   "cell_type": "code",
   "execution_count": null,
   "metadata": {},
   "outputs": [],
   "source": [
    "id = 39\n",
    "v=visualize_nii(id)\n",
    "v.set_position(200, 200, 200)"
   ]
  },
  {
   "cell_type": "markdown",
   "metadata": {},
   "source": [
    "# Else"
   ]
  },
  {
   "cell_type": "code",
   "execution_count": null,
   "metadata": {},
   "outputs": [],
   "source": [
    "import numpy as np\n",
    "import pickle as pkl\n",
    "import ipyvolume.pylab as ipv"
   ]
  },
  {
   "cell_type": "code",
   "execution_count": null,
   "metadata": {},
   "outputs": [],
   "source": [
    "from adet.utils.visualize_niigz import *\n",
    "\n",
    "\n",
    "def show_img(res):\n",
    "    import torchvision.transforms as T\n",
    "    res = tt(res)\n",
    "    if res.ndim>=3:\n",
    "        return T.ToPILImage()(visulize_3d(res))\n",
    "    # normalize res\n",
    "    res = (res-res.min())/(res.max()-res.min())\n",
    "    return T.ToPILImage()(res)"
   ]
  },
  {
   "cell_type": "markdown",
   "metadata": {},
   "source": [
    "## Read Pred pkl and GT files"
   ]
  },
  {
   "cell_type": "code",
   "execution_count": null,
   "metadata": {},
   "outputs": [],
   "source": [
    "fname = '/home/hynx/regis/Recursive-Cascaded-Networks/evaluate/Aug23-1306-model-99500.pkl'\n",
    "mode = 'normal'\n",
    "fname = '/home/hynx/regis/Recursive-Cascaded-Networks/evaluate/Aug30-1417-model-99500.pkl'\n",
    "mode = 'mask'\n",
    "\n",
    "dct = pkl.load(open(fname, 'rb'))\n",
    "idx=0\n",
    "k = 'warped_seg_moving'\n",
    "p = np.maximum((dct[k][...,0,1]>0.5*255)*2,(dct[k][...,0,0]>0.5*255))\n",
    "# include img1,2 seg1,2 warped_moving\n",
    "keys = ['img1', 'img2', 'seg1', 'seg2', 'warped_moving']\n",
    "seg_pairs = list(zip(*[dct[k][...,0] for k in keys], p))\n",
    "keys.append(k)\n",
    "# keys: img1, img2, seg1, seg2, warped_moving, warped_seg_moving\n",
    "# values: shape(128, 128, 128)\n",
    "ndct = [{k:v for k,v in zip(keys, s)} for s in seg_pairs]"
   ]
  },
  {
   "cell_type": "code",
   "execution_count": null,
   "metadata": {},
   "outputs": [],
   "source": [
    "import h5py\n",
    "h5_name = '/home/hynx/regis/Recursive-Cascaded-Networks/datasets/lits_deform_L.h5'\n",
    "reader = h5py.File(h5_name, 'r')\n",
    "id1 = dct['id1'][idx][7:]\n",
    "id2 = dct['id2'][idx]\n",
    "gt = reader[id1]['id2'][id2]['ffd_gt'][...]\n",
    "gt_flow = gt - np.mgrid[0:gt.shape[0], 0:gt.shape[1], 0:gt.shape[2]].astype(np.float32).transpose(1,2,3,0)"
   ]
  },
  {
   "cell_type": "code",
   "execution_count": null,
   "metadata": {},
   "outputs": [],
   "source": [
    "img1 = ndct[idx]['img1']\n",
    "img2 = ndct[idx]['img2']\n",
    "seg1 = ndct[idx]['seg1']\n",
    "seg2 = ndct[idx]['seg2']\n",
    "real_flow = dct['real_flow'][idx]\n",
    "w_seg2 = ndct[idx]['warped_seg_moving']\n",
    "from scipy.ndimage import map_coordinates\n",
    "gt_seg2 = map_coordinates(seg2, gt.transpose(-1,0,1,2), order=0)"
   ]
  },
  {
   "cell_type": "code",
   "execution_count": null,
   "metadata": {},
   "outputs": [],
   "source": [
    "# show_img(map_coordinates(seg2, real_flow.transpose(-1,0,1,2)+np.mgrid[:128,:128,:128], order=0))"
   ]
  },
  {
   "cell_type": "code",
   "execution_count": null,
   "metadata": {},
   "outputs": [],
   "source": [
    "i = 8\n",
    "x,y,z = np.mgrid[:i, :i, :i]*(128//i)\n",
    "v = real_flow[x, y, z]\n",
    "gt_v = gt_flow[x,y,z]\n",
    "label = w_seg2[x, y, z]\n",
    "gt_label = gt_seg2[x,y,z]"
   ]
  },
  {
   "cell_type": "code",
   "execution_count": null,
   "metadata": {},
   "outputs": [],
   "source": [
    "flt = lambda x:x.flatten().astype(float)\n",
    "dist = lambda x:np.linalg.norm(x, axis=-1)"
   ]
  },
  {
   "cell_type": "markdown",
   "metadata": {},
   "source": [
    "## ITK Tools"
   ]
  },
  {
   "cell_type": "code",
   "execution_count": null,
   "metadata": {},
   "outputs": [],
   "source": [
    "from itkwidgets import view\n",
    "quant_values = lambda x, values: (x[...,None]>=values).sum(-1)"
   ]
  },
  {
   "cell_type": "markdown",
   "metadata": {},
   "source": [
    "### Warped grid area"
   ]
  },
  {
   "cell_type": "code",
   "execution_count": null,
   "metadata": {},
   "outputs": [],
   "source": [
    "pred_flow = np.moveaxis(real_flow, -1,0)"
   ]
  },
  {
   "cell_type": "code",
   "execution_count": null,
   "metadata": {},
   "outputs": [],
   "source": [
    "def single_jacobian_det(flow):\n",
    "    \"\"\"\n",
    "    flow has shape (batch, C, H, W, S)\n",
    "    \"\"\"\n",
    "    flow = flow[None]\n",
    "    # Compute Jacobian determinant\n",
    "    batch_size, _, height, width, depth = flow.shape\n",
    "    dx = flow[:, :, 1:, 1:, 1:] - flow[:, :, :-1, 1:, 1:] + 1\n",
    "    dy = flow[:, :, 1:, 1:, 1:] - flow[:, :, 1:, :-1, 1:] + 1\n",
    "    dz = flow[:, :, 1:, 1:, 1:] - flow[:, :, 1:, 1:, :-1] + 1\n",
    "    jac = np.stack([dx, dy, dz], axis=1).transpose(0, 3, 4, 5, 1, 2)\n",
    "    det = np.linalg.det(jac)\n",
    "    return det[0]"
   ]
  },
  {
   "cell_type": "code",
   "execution_count": null,
   "metadata": {},
   "outputs": [],
   "source": [
    "areas = abs(single_jacobian_det(pred_flow))\n",
    "# _, values = np.histogram(areas, bins=5)\n",
    "values = np.percentile(areas, q=[75, 85, 95])"
   ]
  },
  {
   "cell_type": "code",
   "execution_count": null,
   "metadata": {},
   "outputs": [],
   "source": [
    " np.histogram(areas, bins=5)"
   ]
  },
  {
   "cell_type": "code",
   "execution_count": null,
   "metadata": {},
   "outputs": [],
   "source": [
    "areas_label = quant_values(areas,values)"
   ]
  },
  {
   "cell_type": "code",
   "execution_count": null,
   "metadata": {},
   "outputs": [],
   "source": [
    "# interpolate to same size\n",
    "from scipy.ndimage import zoom\n",
    "areas_label = zoom(areas_label, 128/areas_label.shape[0], order=0)"
   ]
  },
  {
   "cell_type": "code",
   "execution_count": null,
   "metadata": {},
   "outputs": [],
   "source": [
    "np.unique(areas_label, return_counts=True)"
   ]
  },
  {
   "cell_type": "code",
   "execution_count": null,
   "metadata": {},
   "outputs": [],
   "source": [
    "view(img2, areas_label)"
   ]
  },
  {
   "cell_type": "code",
   "execution_count": null,
   "metadata": {},
   "outputs": [],
   "source": [
    "ipv.figure()\n",
    "N = 1000\n",
    "x, y, z = np.random.normal(0, 1, (3, N))\n",
    "ipv.scatter(x,y,z)\n",
    "# ipv.plot_wireframe(*fixed_loc)\n",
    "ipv.show()"
   ]
  },
  {
   "cell_type": "markdown",
   "metadata": {},
   "source": [
    "### Displacement"
   ]
  },
  {
   "cell_type": "code",
   "execution_count": null,
   "metadata": {},
   "outputs": [],
   "source": [
    "disp = dist(real_flow)\n",
    "# _, values = np.histogram(disp, bins=5)\n",
    "values = np.percentile(disp, q=[75, 85, 95])"
   ]
  },
  {
   "cell_type": "code",
   "execution_count": null,
   "metadata": {},
   "outputs": [],
   "source": [
    "values"
   ]
  },
  {
   "cell_type": "code",
   "execution_count": null,
   "metadata": {},
   "outputs": [],
   "source": [
    "np.histogram(disp)"
   ]
  },
  {
   "cell_type": "code",
   "execution_count": null,
   "metadata": {},
   "outputs": [],
   "source": [
    "dist_label = quant_values(disp, values)\n",
    "view(img2, dist_label)"
   ]
  },
  {
   "cell_type": "markdown",
   "metadata": {},
   "source": [
    "## Animation"
   ]
  },
  {
   "cell_type": "code",
   "execution_count": null,
   "metadata": {},
   "outputs": [],
   "source": [
    "red_color = np.array([255, 0, 0, 200])/255\n",
    "blue_color = np.array([0, 0, 255, 200])/255\n",
    "\n",
    "def label2color(label):\n",
    "    color_label = np.where(label[...,None]==1, red_color, np.array([0.1,0.1,0.1,0.1]))\n",
    "    color_label = np.where(label[...,None]==2, blue_color, color_label)\n",
    "    color_label = color_label.astype(float)\n",
    "    color_label = color_label.reshape(-1,color_label.shape[-1])\n",
    "    return color_label\n",
    "\n",
    "x1 = x.flatten().astype(float)\n",
    "y1 = y.flatten().astype(float)\n",
    "z1 = z.flatten().astype(float)"
   ]
  },
  {
   "cell_type": "code",
   "execution_count": null,
   "metadata": {},
   "outputs": [],
   "source": [
    "rsh = lambda x:x.reshape(16,16,16)\n",
    "ipv.figure()\n",
    "for u,v,w in zip(rsh(x2),rsh(y2),rsh(z2)):\n",
    "    ipv.plot_wireframe(u, v, w, color=\"pink\")\n",
    "ipv.show()"
   ]
  },
  {
   "cell_type": "code",
   "execution_count": null,
   "metadata": {},
   "outputs": [],
   "source": [
    "cmap = plt.cm.get_cmap('jet')\n",
    "gradient = np.linspace(0, 1, 256)\n",
    "gradient = np.vstack((gradient, gradient))\n",
    "plt.figure(figsize=(10,1))\n",
    "plt.imshow(gradient, cmap=cmap, aspect='auto',)"
   ]
  },
  {
   "cell_type": "code",
   "execution_count": null,
   "metadata": {},
   "outputs": [],
   "source": [
    "vx, vy, vz = v.transpose(-1,0,1,2)\n",
    "msk = np.logical_or(length_v>5,label==2)\n",
    "flabel = label.flatten()\n",
    "x2 = x+vx\n",
    "y2 = y+vy\n",
    "z2 = z+vz\n",
    "x2, y2, z2 = flt(x2), flt(y2), flt(z2)\n",
    "\n",
    "xs,ys,zs = np.stack([x2,x1]),np.stack([y2,y1]),np.stack([z2,z1])\n",
    "xs,ys,zs = xs[:,flabel>0], ys[:, flabel>0], zs[:, flabel>0]\n",
    "fig = ipv.figure()\n",
    "# get color by displacement and labels\n",
    "disp = dist(v).flatten()[...,None][flabel>0]\n",
    "colors = cmap()\n",
    "\n",
    "s = ipv.scatter(xs,ys,zs, marker='sphere', color=colors, size=2)\n",
    "ipv.animation_control(s)\n",
    "ipv.volshow(seg2.transpose(2,1,0)/2,level=[0.5, 1], opacity=[0.01, 0.02], level_width=0.01)\n",
    "ipv.show()"
   ]
  },
  {
   "cell_type": "code",
   "execution_count": null,
   "metadata": {},
   "outputs": [],
   "source": [
    "# vx, vy, vz = v.transpose(-1,0,1,2)\n",
    "vx, vy, vz = gt_v.transpose(-1,0,1,2)\n",
    "x2 = x+vx\n",
    "y2 = y+vy\n",
    "z2 = z+vz\n",
    "x2, y2, z2 = flt(x2), flt(y2), flt(z2)\n",
    "\n",
    "xs,ys,zs = np.stack([x2,x1]),np.stack([y2,y1]),np.stack([z2,z1])\n",
    "fig = ipv.figure()\n",
    "s = ipv.scatter(xs,ys,zs, marker='sphere', color=label2color(gt_label), size=2)\n",
    "ipv.animation_control(s)\n",
    "ipv.volshow(seg2.transpose(2,1,0)/2,level=[0.5, 1], opacity=[0.01, 0.02], level_width=0.01)\n",
    "ipv.show()"
   ]
  },
  {
   "cell_type": "code",
   "execution_count": null,
   "metadata": {},
   "outputs": [],
   "source": [
    "%matplotlib widget\n",
    "from mpl_toolkits.mplot3d import axes3d\n",
    "import matplotlib.pyplot as plt\n",
    "import numpy as np\n",
    "\n",
    "fig = plt.figure()\n",
    "ax = fig.gca(projection='3d')\n",
    "ax.scatter(x, y, z, c=color_label.reshape(-1,3), s=3)"
   ]
  },
  {
   "cell_type": "markdown",
   "metadata": {},
   "source": [
    "## Arrow: Visualize Pred flow"
   ]
  },
  {
   "cell_type": "code",
   "execution_count": null,
   "metadata": {},
   "outputs": [],
   "source": [
    "x = x[msk].flatten().astype(float)\n",
    "y = y[msk].flatten().astype(float)\n",
    "z = z[msk].flatten().astype(float)\n",
    "\n",
    "vx, vy, vz = v[msk].T\n",
    "vx = vx.flatten()\n",
    "vy = vy.flatten()\n",
    "vz = vz.flatten()"
   ]
  },
  {
   "cell_type": "code",
   "execution_count": null,
   "metadata": {},
   "outputs": [],
   "source": [
    "%matplotlib widget\n",
    "from mpl_toolkits.mplot3d import axes3d\n",
    "import matplotlib.pyplot as plt\n",
    "import numpy as np\n",
    "\n",
    "fig = plt.figure()\n",
    "ax = fig.gca(projection='3d')\n",
    "\n",
    "ax.quiver(x, y, z, vx, vy, vz, arrow_length_ratio=0.6, length=1.2, pivot='middle')\n",
    "ax.scatter(x,y,z, color = 'black', s=0.5)\n",
    "# show the axis title\n",
    "ax.set_xlabel('x')\n",
    "ax.set_ylabel('y')\n",
    "ax.set_zlabel('z')\n",
    "\n",
    "plt.show()"
   ]
  },
  {
   "cell_type": "code",
   "execution_count": null,
   "metadata": {},
   "outputs": [],
   "source": [
    "fig = ipv.figure()\n",
    "p1 = np.zeros(3)\n",
    "p2 = np.ones(3)\n",
    "p3 = np.full(3, 0.5)\n",
    "quiver = ipv.quiver(*np.stack([p1,p2, p3],axis=1),[1,10, 500],[1,10,500],[1,10,500], size=5)\n",
    "ipv.show()"
   ]
  },
  {
   "cell_type": "code",
   "execution_count": null,
   "metadata": {},
   "outputs": [],
   "source": [
    "fig = ipv.figure()\n",
    "quiver = ipv.quiver(x, y, z, vx, vy, vz, size=5)\n",
    "ipv.show()"
   ]
  }
 ],
 "metadata": {
  "kernelspec": {
   "display_name": "Python 3 (ipykernel)",
   "language": "python",
   "name": "python3"
  },
  "language_info": {
   "codemirror_mode": {
    "name": "ipython",
    "version": 3
   },
   "file_extension": ".py",
   "mimetype": "text/x-python",
   "name": "python",
   "nbconvert_exporter": "python",
   "pygments_lexer": "ipython3",
   "version": "3.10.9"
  },
  "vscode": {
   "interpreter": {
    "hash": "45b791b08232f65da906b1dd6ccc8b0664ad17ad103836e42c8cd9dd7c999693"
   }
  }
 },
 "nbformat": 4,
 "nbformat_minor": 4
}
