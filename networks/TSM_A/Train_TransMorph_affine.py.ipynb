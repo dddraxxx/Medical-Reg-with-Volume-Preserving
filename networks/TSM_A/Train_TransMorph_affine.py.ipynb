{
 "cells": [
  {
   "cell_type": "markdown",
   "id": "7693ba88",
   "metadata": {},
   "source": [
    "# TransMorph-affine model"
   ]
  },
  {
   "cell_type": "markdown",
   "id": "2ec46a80",
   "metadata": {},
   "source": [
    "# Training"
   ]
  },
  {
   "cell_type": "code",
   "execution_count": 1,
   "id": "bfcce891",
   "metadata": {},
   "outputs": [],
   "source": [
    "# Import packages"
   ]
  },
  {
   "cell_type": "code",
   "execution_count": 2,
   "id": "d02fff33",
   "metadata": {},
   "outputs": [],
   "source": [
    "import os, utils, glob, losses\n",
    "import sys\n",
    "from torch.utils.data import DataLoader\n",
    "from data import datasets, trans\n",
    "import numpy as np\n",
    "import torch, TransMorph_affine\n",
    "from torchvision import transforms\n",
    "from torch import optim\n",
    "import matplotlib.pyplot as plt\n",
    "from TransMorph_affine import CONFIGS as CONFIGS\n",
    "from natsort import natsorted"
   ]
  },
  {
   "cell_type": "code",
   "execution_count": 3,
   "id": "495c0305",
   "metadata": {},
   "outputs": [],
   "source": [
    "# create average meter for recording loss values"
   ]
  },
  {
   "cell_type": "code",
   "execution_count": 4,
   "id": "2b025427",
   "metadata": {},
   "outputs": [],
   "source": [
    "class AverageMeter(object):\n",
    "    \"\"\"Computes and stores the average and current value\"\"\"\n",
    "    def __init__(self):\n",
    "        self.reset()\n",
    "\n",
    "    def reset(self):\n",
    "        self.val = 0\n",
    "        self.avg = 0\n",
    "        self.sum = 0\n",
    "        self.count = 0\n",
    "\n",
    "    def update(self, val, n=1):\n",
    "        self.val = val\n",
    "        self.sum += val * n\n",
    "        self.count += n\n",
    "        self.avg = self.sum / self.count"
   ]
  },
  {
   "cell_type": "code",
   "execution_count": 5,
   "id": "3c19981c",
   "metadata": {},
   "outputs": [],
   "source": [
    "# Learning rate adjustment function"
   ]
  },
  {
   "cell_type": "code",
   "execution_count": 6,
   "id": "777a908c",
   "metadata": {},
   "outputs": [],
   "source": [
    "def adjust_learning_rate(optimizer, epoch, MAX_EPOCHES, INIT_LR, power=0.9):\n",
    "    for param_group in optimizer.param_groups:\n",
    "        param_group['lr'] = round(INIT_LR * np.power( 1 - (epoch) / MAX_EPOCHES ,power),8)"
   ]
  },
  {
   "cell_type": "code",
   "execution_count": 7,
   "id": "878e8c81",
   "metadata": {},
   "outputs": [],
   "source": [
    "# Setup GPUs"
   ]
  },
  {
   "cell_type": "code",
   "execution_count": 8,
   "id": "4df338af",
   "metadata": {},
   "outputs": [
    {
     "name": "stdout",
     "output_type": "stream",
     "text": [
      "Number of GPU: 2\n",
      "     GPU #0: NVIDIA GeForce RTX 3090\n",
      "     GPU #1: NVIDIA TITAN RTX\n",
      "Currently using: NVIDIA TITAN RTX\n",
      "If the GPU is available? True\n"
     ]
    }
   ],
   "source": [
    "'''\n",
    "GPU configuration\n",
    "'''\n",
    "GPU_iden = 1\n",
    "GPU_num = torch.cuda.device_count()\n",
    "print('Number of GPU: ' + str(GPU_num))\n",
    "for GPU_idx in range(GPU_num):\n",
    "    GPU_name = torch.cuda.get_device_name(GPU_idx)\n",
    "    print('     GPU #' + str(GPU_idx) + ': ' + GPU_name)\n",
    "torch.cuda.set_device(GPU_iden)\n",
    "GPU_avai = torch.cuda.is_available()\n",
    "print('Currently using: ' + torch.cuda.get_device_name(GPU_iden))\n",
    "print('If the GPU is available? ' + str(GPU_avai))"
   ]
  },
  {
   "cell_type": "code",
   "execution_count": 9,
   "id": "a184d338",
   "metadata": {},
   "outputs": [],
   "source": [
    "# Setup directory names and training hyperparameters"
   ]
  },
  {
   "cell_type": "code",
   "execution_count": 10,
   "id": "046ab1b4",
   "metadata": {},
   "outputs": [],
   "source": [
    "batch_size = 1\n",
    "train_dir = 'D:/DATA/Duke/Adult/fold_1/Train/'\n",
    "test_dir = 'D:/DATA/Duke/Adult/fold_1/Test/'\n",
    "save_dir = 'TransMorph_affine_NCC/'\n",
    "if not os.path.exists('experiments/'+save_dir):\n",
    "    os.makedirs('experiments/'+save_dir)\n",
    "if not os.path.exists(save_dir):\n",
    "    os.makedirs(save_dir)\n",
    "lr = 0.0001\n",
    "epoch_start = 0\n",
    "max_epoch = 35\n",
    "cont_training = False"
   ]
  },
  {
   "cell_type": "code",
   "execution_count": 11,
   "id": "1225bd3f",
   "metadata": {},
   "outputs": [],
   "source": [
    "# Create TransMorph-affine model"
   ]
  },
  {
   "cell_type": "code",
   "execution_count": 12,
   "id": "3568a903",
   "metadata": {},
   "outputs": [
    {
     "data": {
      "text/plain": [
       "SwinAffine(\n",
       "  (transformer): SwinTransformer(\n",
       "    (patch_embed): PatchEmbed(\n",
       "      (proj): Conv3d(2, 12, kernel_size=(4, 4, 4), stride=(4, 4, 4))\n",
       "      (norm): LayerNorm((12,), eps=1e-05, elementwise_affine=True)\n",
       "    )\n",
       "    (pos_drop): Dropout(p=0, inplace=False)\n",
       "    (layers): ModuleList(\n",
       "      (0): BasicLayer(\n",
       "        (blocks): ModuleList(\n",
       "          (0): SwinTransformerBlock(\n",
       "            (norm1): LayerNorm((12,), eps=1e-05, elementwise_affine=True)\n",
       "            (attn): WindowAttention(\n",
       "              (qkv): Linear(in_features=12, out_features=36, bias=False)\n",
       "              (attn_drop): Dropout(p=0.0, inplace=False)\n",
       "              (proj): Linear(in_features=12, out_features=12, bias=True)\n",
       "              (proj_drop): Dropout(p=0, inplace=False)\n",
       "              (softmax): Softmax(dim=-1)\n",
       "            )\n",
       "            (drop_path): Identity()\n",
       "            (norm2): LayerNorm((12,), eps=1e-05, elementwise_affine=True)\n",
       "            (mlp): Mlp(\n",
       "              (fc1): Linear(in_features=12, out_features=48, bias=True)\n",
       "              (act): GELU()\n",
       "              (fc2): Linear(in_features=48, out_features=12, bias=True)\n",
       "              (drop): Dropout(p=0, inplace=False)\n",
       "            )\n",
       "          )\n",
       "        )\n",
       "        (downsample): PatchMerging(\n",
       "          (reduction): Linear(in_features=96, out_features=24, bias=False)\n",
       "          (norm): LayerNorm((96,), eps=1e-05, elementwise_affine=True)\n",
       "        )\n",
       "      )\n",
       "      (1): BasicLayer(\n",
       "        (blocks): ModuleList(\n",
       "          (0): SwinTransformerBlock(\n",
       "            (norm1): LayerNorm((24,), eps=1e-05, elementwise_affine=True)\n",
       "            (attn): WindowAttention(\n",
       "              (qkv): Linear(in_features=24, out_features=72, bias=False)\n",
       "              (attn_drop): Dropout(p=0.0, inplace=False)\n",
       "              (proj): Linear(in_features=24, out_features=24, bias=True)\n",
       "              (proj_drop): Dropout(p=0, inplace=False)\n",
       "              (softmax): Softmax(dim=-1)\n",
       "            )\n",
       "            (drop_path): DropPath()\n",
       "            (norm2): LayerNorm((24,), eps=1e-05, elementwise_affine=True)\n",
       "            (mlp): Mlp(\n",
       "              (fc1): Linear(in_features=24, out_features=96, bias=True)\n",
       "              (act): GELU()\n",
       "              (fc2): Linear(in_features=96, out_features=24, bias=True)\n",
       "              (drop): Dropout(p=0, inplace=False)\n",
       "            )\n",
       "          )\n",
       "        )\n",
       "        (downsample): PatchMerging(\n",
       "          (reduction): Linear(in_features=192, out_features=48, bias=False)\n",
       "          (norm): LayerNorm((192,), eps=1e-05, elementwise_affine=True)\n",
       "        )\n",
       "      )\n",
       "      (2): BasicLayer(\n",
       "        (blocks): ModuleList(\n",
       "          (0): SwinTransformerBlock(\n",
       "            (norm1): LayerNorm((48,), eps=1e-05, elementwise_affine=True)\n",
       "            (attn): WindowAttention(\n",
       "              (qkv): Linear(in_features=48, out_features=144, bias=False)\n",
       "              (attn_drop): Dropout(p=0.0, inplace=False)\n",
       "              (proj): Linear(in_features=48, out_features=48, bias=True)\n",
       "              (proj_drop): Dropout(p=0, inplace=False)\n",
       "              (softmax): Softmax(dim=-1)\n",
       "            )\n",
       "            (drop_path): DropPath()\n",
       "            (norm2): LayerNorm((48,), eps=1e-05, elementwise_affine=True)\n",
       "            (mlp): Mlp(\n",
       "              (fc1): Linear(in_features=48, out_features=192, bias=True)\n",
       "              (act): GELU()\n",
       "              (fc2): Linear(in_features=192, out_features=48, bias=True)\n",
       "              (drop): Dropout(p=0, inplace=False)\n",
       "            )\n",
       "          )\n",
       "          (1): SwinTransformerBlock(\n",
       "            (norm1): LayerNorm((48,), eps=1e-05, elementwise_affine=True)\n",
       "            (attn): WindowAttention(\n",
       "              (qkv): Linear(in_features=48, out_features=144, bias=False)\n",
       "              (attn_drop): Dropout(p=0.0, inplace=False)\n",
       "              (proj): Linear(in_features=48, out_features=48, bias=True)\n",
       "              (proj_drop): Dropout(p=0, inplace=False)\n",
       "              (softmax): Softmax(dim=-1)\n",
       "            )\n",
       "            (drop_path): DropPath()\n",
       "            (norm2): LayerNorm((48,), eps=1e-05, elementwise_affine=True)\n",
       "            (mlp): Mlp(\n",
       "              (fc1): Linear(in_features=48, out_features=192, bias=True)\n",
       "              (act): GELU()\n",
       "              (fc2): Linear(in_features=192, out_features=48, bias=True)\n",
       "              (drop): Dropout(p=0, inplace=False)\n",
       "            )\n",
       "          )\n",
       "        )\n",
       "      )\n",
       "    )\n",
       "    (norm0): LayerNorm((12,), eps=1e-05, elementwise_affine=True)\n",
       "    (norm1): LayerNorm((24,), eps=1e-05, elementwise_affine=True)\n",
       "    (norm2): LayerNorm((48,), eps=1e-05, elementwise_affine=True)\n",
       "  )\n",
       "  (aff_head): Linear(in_features=48000, out_features=100, bias=True)\n",
       "  (aff_head_f): Linear(in_features=100, out_features=3, bias=True)\n",
       "  (relu_aff): ReLU(inplace=True)\n",
       "  (scl_head): Linear(in_features=48000, out_features=100, bias=True)\n",
       "  (scl_head_f): Linear(in_features=100, out_features=3, bias=True)\n",
       "  (relu_scl): ReLU(inplace=True)\n",
       "  (trans_head): Linear(in_features=48000, out_features=100, bias=True)\n",
       "  (trans_head_f): Linear(in_features=100, out_features=3, bias=True)\n",
       "  (relu_trans): ReLU(inplace=True)\n",
       "  (shear_head): Linear(in_features=48000, out_features=100, bias=True)\n",
       "  (shear_head_f): Linear(in_features=100, out_features=6, bias=True)\n",
       "  (relu_shear): ReLU(inplace=True)\n",
       "  (affine_trans): AffineTransformer()\n",
       ")"
      ]
     },
     "execution_count": 12,
     "metadata": {},
     "output_type": "execute_result"
    }
   ],
   "source": [
    "config = CONFIGS['TransMorph-Affine']\n",
    "AffInfer = TransMorph_affine.ApplyAffine()\n",
    "AffInfer.cuda()\n",
    "model = TransMorph_affine.SwinAffine(config)\n",
    "model.cuda()"
   ]
  },
  {
   "cell_type": "code",
   "execution_count": 13,
   "id": "bb93e9f0",
   "metadata": {},
   "outputs": [],
   "source": [
    "# If continue training"
   ]
  },
  {
   "cell_type": "code",
   "execution_count": 14,
   "id": "d272278e",
   "metadata": {},
   "outputs": [
    {
     "name": "stdout",
     "output_type": "stream",
     "text": [
      "Current learning rate: 0.0001\n"
     ]
    }
   ],
   "source": [
    "if cont_training:\n",
    "    epoch_start = 335\n",
    "    model_dir = 'experiments/'+save_dir\n",
    "    updated_lr = round(lr * np.power(1 - (epoch_start) / max_epoch,0.9),8)\n",
    "    best_model = torch.load(model_dir + natsorted(os.listdir(model_dir))[0])['state_dict']\n",
    "    model.load_state_dict(best_model)\n",
    "else:\n",
    "    updated_lr = lr\n",
    "print('Current learning rate: {}'.format(updated_lr))"
   ]
  },
  {
   "cell_type": "code",
   "execution_count": 15,
   "id": "86c65b14",
   "metadata": {},
   "outputs": [],
   "source": [
    "# Setup PyTorch Dataset"
   ]
  },
  {
   "cell_type": "code",
   "execution_count": 16,
   "id": "6c29e9d1",
   "metadata": {},
   "outputs": [],
   "source": [
    "train_composed = transforms.Compose([trans.Pad3DIfNeeded((180, 180, 180)),\n",
    "                                     trans.CenterCropBySize((160, 160, 160)),\n",
    "                                     trans.NumpyType((np.float32, np.float32)),\n",
    "                                     ])\n",
    "\n",
    "test_composed = transforms.Compose([trans.Pad3DIfNeeded((180, 180, 180)),\n",
    "                                   trans.CenterCropBySize((160, 160, 160)),\n",
    "                                   trans.NumpyType((np.float32, np.float32)),\n",
    "                                   ])\n",
    "\n",
    "train_set = datasets.CTDataset(glob.glob(train_dir + '*.pkl'), transforms=train_composed)\n",
    "test_set = datasets.CTDataset(glob.glob(test_dir + '*.pkl'), transforms=test_composed)\n",
    "train_loader = DataLoader(train_set, batch_size=batch_size, shuffle=True, num_workers=4, pin_memory=True)\n",
    "test_loader = DataLoader(test_set, batch_size=1, shuffle=False, num_workers=4, pin_memory=True)"
   ]
  },
  {
   "cell_type": "code",
   "execution_count": 17,
   "id": "3124326a",
   "metadata": {},
   "outputs": [],
   "source": [
    "# Setup optimizers and loss"
   ]
  },
  {
   "cell_type": "code",
   "execution_count": 18,
   "id": "fc6d4df5",
   "metadata": {},
   "outputs": [],
   "source": [
    "optimizer = optim.AdamW(model.parameters(), lr=updated_lr, amsgrad=True)\n",
    "Sim_loss = losses.NCCLoss()"
   ]
  },
  {
   "cell_type": "code",
   "execution_count": 19,
   "id": "040a3d4a",
   "metadata": {},
   "outputs": [],
   "source": [
    "# Training loop"
   ]
  },
  {
   "cell_type": "code",
   "execution_count": 20,
   "id": "adda3638",
   "metadata": {},
   "outputs": [
    {
     "name": "stdout",
     "output_type": "stream",
     "text": [
      "Training Starts\n",
      "Epoch 0, loss 0.4562\n",
      "Epoch 1, loss 0.4464\n",
      "Epoch 2, loss 0.4370\n",
      "Epoch 3, loss 0.4278\n",
      "Epoch 4, loss 0.4194\n",
      "Epoch 5, loss 0.4093\n",
      "Epoch 6, loss 0.3991\n",
      "Epoch 7, loss 0.3890\n",
      "Epoch 8, loss 0.3798\n",
      "Epoch 9, loss 0.3714\n",
      "Epoch 10, loss 0.3630\n",
      "Epoch 11, loss 0.3553\n",
      "Epoch 12, loss 0.3472\n",
      "Epoch 13, loss 0.3383\n",
      "Epoch 14, loss 0.3289\n",
      "Epoch 15, loss 0.3201\n",
      "Epoch 16, loss 0.3116\n",
      "Epoch 17, loss 0.3045\n",
      "Epoch 18, loss 0.2982\n",
      "Epoch 19, loss 0.2921\n",
      "Epoch 20, loss 0.2863\n",
      "Epoch 21, loss 0.2812\n",
      "Epoch 22, loss 0.2768\n",
      "Epoch 23, loss 0.2734\n",
      "Epoch 24, loss 0.2705\n",
      "Epoch 25, loss 0.2679\n",
      "Epoch 26, loss 0.2652\n",
      "Epoch 27, loss 0.2626\n",
      "Epoch 28, loss 0.2604\n",
      "Epoch 29, loss 0.2584\n",
      "Epoch 30, loss 0.2568\n",
      "Epoch 31, loss 0.2555\n",
      "Epoch 32, loss 0.2545\n",
      "Epoch 33, loss 0.2536\n",
      "Epoch 34, loss 0.2532\n"
     ]
    }
   ],
   "source": [
    "print('Training Starts')\n",
    "for epoch in range(epoch_start, max_epoch):\n",
    "    '''\n",
    "    Training\n",
    "    '''\n",
    "    loss_all = AverageMeter()\n",
    "    idx = 0\n",
    "    for data in train_loader:\n",
    "        idx += 1\n",
    "        model.train()\n",
    "        adjust_learning_rate(optimizer, epoch, max_epoch, lr)\n",
    "        data = [t.cuda() for t in data]\n",
    "\n",
    "        ####################\n",
    "        # Affine transform\n",
    "        ####################\n",
    "        x = data[0]\n",
    "        y = data[1]\n",
    "        x_in = torch.cat((x, y), dim=1)\n",
    "        ct_aff, mat, inv_mats = model(x_in)\n",
    "        phan = y\n",
    "        loss = Sim_loss(phan/255, ct_aff/255)\n",
    "        loss.backward()\n",
    "        optimizer.step()\n",
    "        loss_all.update(loss.item(), x.size(0))\n",
    "    print('Epoch {}, loss {:.4f}'.format(epoch, loss_all.avg))"
   ]
  },
  {
   "cell_type": "code",
   "execution_count": 21,
   "id": "31e6b8d4",
   "metadata": {},
   "outputs": [],
   "source": [
    "# load an image pair from test set"
   ]
  },
  {
   "cell_type": "code",
   "execution_count": 22,
   "id": "3c3d0a34",
   "metadata": {},
   "outputs": [
    {
     "name": "stdout",
     "output_type": "stream",
     "text": [
      "torch.Size([1, 1, 160, 160, 160])\n",
      "torch.Size([1, 1, 160, 160, 160])\n"
     ]
    }
   ],
   "source": [
    "for data in test_loader:\n",
    "    data = [t.cuda() for t in data]\n",
    "    x = data[0]\n",
    "    y = data[1]\n",
    "    print(x.shape)\n",
    "    print(y.shape)\n",
    "    break\n",
    "with torch.no_grad():\n",
    "    model.eval()\n",
    "    x_in = torch.cat((x, y), dim=1)\n",
    "    ct_aff, mat, inv_mats = model(x_in)\n",
    "    phan = y"
   ]
  },
  {
   "cell_type": "code",
   "execution_count": 23,
   "id": "e040ec64",
   "metadata": {},
   "outputs": [],
   "source": [
    "# Plot before and after affine transformation"
   ]
  },
  {
   "cell_type": "code",
   "execution_count": 24,
   "id": "37a330d8",
   "metadata": {},
   "outputs": [
    {
     "data": {
      "image/png": "[encoded data removed]",
      "text/plain": [
       "<Figure size 432x288 with 3 Axes>"
      ]
     },
     "metadata": {
      "needs_background": "light"
     },
     "output_type": "display_data"
    }
   ],
   "source": [
    "plt.figure()\n",
    "plt.subplot(1, 3, 1)\n",
    "plt.imshow(x.cpu().detach().numpy()[0, 0, :, :, 120], cmap='gray')\n",
    "plt.title('CT (Moving)')\n",
    "plt.subplot(1, 3, 2)\n",
    "plt.imshow(y.cpu().detach().numpy()[0, 0, :, :, 120], cmap='gray')\n",
    "plt.title('XCAT (Fixed)')\n",
    "plt.subplot(1, 3, 3)\n",
    "plt.imshow(ct_aff.cpu().detach().numpy()[0, 0, :, :, 120], cmap='gray')\n",
    "plt.title('output')\n",
    "plt.show()"
   ]
  },
  {
   "cell_type": "code",
   "execution_count": 25,
   "id": "421d5cea",
   "metadata": {},
   "outputs": [],
   "source": [
    "# MSE before and after registration"
   ]
  },
  {
   "cell_type": "code",
   "execution_count": 26,
   "id": "aa74e3e8",
   "metadata": {},
   "outputs": [
    {
     "name": "stdout",
     "output_type": "stream",
     "text": [
      "MSE berfore: 3231.59716796875, after: 1071.135498046875\n"
     ]
    }
   ],
   "source": [
    "import torch.nn as nn\n",
    "MSE_val = nn.MSELoss()\n",
    "MSE_before = MSE_val(x, y)\n",
    "MSE_after = MSE_val(ct_aff, y)\n",
    "print('MSE berfore: {}, after: {}'.format(MSE_before, MSE_after))"
   ]
  },
  {
   "cell_type": "code",
   "execution_count": 27,
   "id": "7bb2b192",
   "metadata": {},
   "outputs": [],
   "source": [
    "# Save pre-trained model"
   ]
  },
  {
   "cell_type": "code",
   "execution_count": 28,
   "id": "36b9f1f6",
   "metadata": {},
   "outputs": [],
   "source": [
    "filename='TransMorph_Affine.pth.tar'\n",
    "torch.save({'epoch': epoch + 1,\n",
    "            'state_dict': model.state_dict(),\n",
    "            'optimizer': optimizer.state_dict(),},\n",
    "            'experiments/'+save_dir+filename)"
   ]
  },
  {
   "cell_type": "markdown",
   "id": "80f8f904",
   "metadata": {},
   "source": [
    "# Inference"
   ]
  },
  {
   "cell_type": "code",
   "execution_count": 29,
   "id": "e07bbce0",
   "metadata": {},
   "outputs": [],
   "source": [
    "# Create model and load weights"
   ]
  },
  {
   "cell_type": "code",
   "execution_count": 30,
   "id": "f6ae92b5",
   "metadata": {},
   "outputs": [
    {
     "data": {
      "text/plain": [
       "<All keys matched successfully>"
      ]
     },
     "execution_count": 30,
     "metadata": {},
     "output_type": "execute_result"
    }
   ],
   "source": [
    "config = CONFIGS['TransMorph-Affine']\n",
    "AffInfer = TransMorph_affine.ApplyAffine()\n",
    "AffInfer.cuda()\n",
    "model = TransMorph_affine.SwinAffine(config)\n",
    "model.cuda()\n",
    "model.load_state_dict(torch.load('experiments/'+save_dir+'TransMorph_Affine.pth.tar')['state_dict'])"
   ]
  },
  {
   "cell_type": "code",
   "execution_count": 31,
   "id": "4bcbe5e4",
   "metadata": {},
   "outputs": [],
   "source": [
    "# PyTorch Datasets\n",
    "infer_dir = 'sample_data/'\n",
    "infer_composed = transforms.Compose([trans.Pad3DIfNeeded((180, 180, 180)),\n",
    "                                     trans.CenterCropBySize((160, 160, 160)),\n",
    "                                     trans.NumpyType((np.float32, np.float32)),\n",
    "                                     ])\n",
    "infer_set = datasets.CTDataset(glob.glob(infer_dir + '*.pkl'), transforms=infer_composed)\n",
    "infer_loader = DataLoader(infer_set, batch_size=1, shuffle=False, num_workers=4, pin_memory=True)\n"
   ]
  },
  {
   "cell_type": "code",
   "execution_count": 32,
   "id": "a281c27e",
   "metadata": {},
   "outputs": [],
   "source": [
    "# Check files"
   ]
  },
  {
   "cell_type": "code",
   "execution_count": 33,
   "id": "1c16045a",
   "metadata": {},
   "outputs": [
    {
     "name": "stdout",
     "output_type": "stream",
     "text": [
      "['sample_data\\\\pt106.pkl', 'sample_data\\\\pt108.pkl']\n"
     ]
    }
   ],
   "source": [
    "print(glob.glob(infer_dir + '*.pkl'))"
   ]
  },
  {
   "cell_type": "code",
   "execution_count": 34,
   "id": "d89ffd17",
   "metadata": {},
   "outputs": [
    {
     "data": {
      "image/png": "[encoded data removed]",
      "text/plain": [
       "<Figure size 432x288 with 3 Axes>"
      ]
     },
     "metadata": {
      "needs_background": "light"
     },
     "output_type": "display_data"
    },
    {
     "data": {
      "image/png": "[encoded data removed]",
      "text/plain": [
       "<Figure size 432x288 with 3 Axes>"
      ]
     },
     "metadata": {
      "needs_background": "light"
     },
     "output_type": "display_data"
    }
   ],
   "source": [
    "with torch.no_grad():\n",
    "    for data in infer_loader:\n",
    "        data = [t.cuda() for t in data]\n",
    "        x = data[0]\n",
    "        y = data[1]\n",
    "        model.eval()\n",
    "        x_in = torch.cat((x, y), dim=1)\n",
    "        ct_aff, mat, inv_mats = model(x_in)\n",
    "        phan = y\n",
    "        plt.figure()\n",
    "        plt.subplot(1, 3, 1)\n",
    "        plt.imshow(x.cpu().detach().numpy()[0, 0, :, :, 130], cmap='gray')\n",
    "        plt.title('CT (Moving)')\n",
    "        plt.subplot(1, 3, 2)\n",
    "        plt.imshow(y.cpu().detach().numpy()[0, 0, :, :, 130], cmap='gray')\n",
    "        plt.title('XCAT (Fixed)')\n",
    "        plt.subplot(1, 3, 3)\n",
    "        plt.imshow(ct_aff.cpu().detach().numpy()[0, 0, :, :, 130], cmap='gray')\n",
    "        plt.title('output')\n",
    "        plt.show()"
   ]
  }
 ],
 "metadata": {
  "kernelspec": {
   "display_name": "Python 3 (ipykernel)",
   "language": "python",
   "name": "python3"
  },
  "language_info": {
   "codemirror_mode": {
    "name": "ipython",
    "version": 3
   },
   "file_extension": ".py",
   "mimetype": "text/x-python",
   "name": "python",
   "nbconvert_exporter": "python",
   "pygments_lexer": "ipython3",
   "version": "3.8.6"
  }
 },
 "nbformat": 4,
 "nbformat_minor": 5
}
